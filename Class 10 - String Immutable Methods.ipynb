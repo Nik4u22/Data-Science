{
 "cells": [
  {
   "cell_type": "markdown",
   "id": "2055fa03",
   "metadata": {},
   "source": [
    "## String Immutable methods"
   ]
  },
  {
   "cell_type": "code",
   "execution_count": null,
   "id": "b6d30fb6",
   "metadata": {},
   "outputs": [],
   "source": [
    "# immutable - you cannot change the object when a datatype is immutable"
   ]
  },
  {
   "cell_type": "code",
   "execution_count": 1,
   "id": "f215aa1e",
   "metadata": {},
   "outputs": [
    {
     "name": "stdout",
     "output_type": "stream",
     "text": [
      "Analytics Sakha\n"
     ]
    }
   ],
   "source": [
    "company_name = 'Analytics Sakha'\n",
    "print(company_name)"
   ]
  },
  {
   "cell_type": "code",
   "execution_count": 2,
   "id": "046dbae1",
   "metadata": {},
   "outputs": [
    {
     "ename": "TypeError",
     "evalue": "'str' object does not support item assignment",
     "output_type": "error",
     "traceback": [
      "\u001b[1;31m---------------------------------------------------------------------------\u001b[0m",
      "\u001b[1;31mTypeError\u001b[0m                                 Traceback (most recent call last)",
      "\u001b[1;32m~\\AppData\\Local\\Temp/ipykernel_1396/206928204.py\u001b[0m in \u001b[0;36m<module>\u001b[1;34m\u001b[0m\n\u001b[1;32m----> 1\u001b[1;33m \u001b[0mcompany_name\u001b[0m\u001b[1;33m[\u001b[0m\u001b[1;36m1\u001b[0m\u001b[1;33m]\u001b[0m \u001b[1;33m=\u001b[0m \u001b[1;34m'P'\u001b[0m\u001b[1;33m\u001b[0m\u001b[1;33m\u001b[0m\u001b[0m\n\u001b[0m",
      "\u001b[1;31mTypeError\u001b[0m: 'str' object does not support item assignment"
     ]
    }
   ],
   "source": [
    "company_name[1] = 'P'"
   ]
  },
  {
   "cell_type": "code",
   "execution_count": 3,
   "id": "c5b8bde7",
   "metadata": {},
   "outputs": [
    {
     "name": "stdout",
     "output_type": "stream",
     "text": [
      "1387878780144\n",
      "1387928367856\n"
     ]
    }
   ],
   "source": [
    "a = 'Python'\n",
    "b = 'Cython'\n",
    "print(id(a))\n",
    "print(id(b))"
   ]
  },
  {
   "cell_type": "code",
   "execution_count": null,
   "id": "4884dda8",
   "metadata": {},
   "outputs": [],
   "source": [
    "## Methods/Function -> Pred defined function to make our task easier"
   ]
  },
  {
   "cell_type": "code",
   "execution_count": 4,
   "id": "ac01b6b5",
   "metadata": {},
   "outputs": [
    {
     "name": "stdout",
     "output_type": "stream",
     "text": [
      "['ARIMA', 'CountVectorizer', 'ElasticNet', 'ElasticNetCV', 'GradientBoostingClassifier', 'GradientBoostingRegressor', 'GridSearchCV', 'Image', 'In', 'KFold', 'KMeans', 'LabelEncoder', 'Lasso', 'LassoCV', 'LazyImport', 'LinearRegression', 'LogisticRegression', 'MinMaxScaler', 'OneHotEncoder', 'Out', 'PCA', 'Path', 'PolynomialFeatures', 'Prophet', 'RandomForestClassifier', 'RandomForestRegressor', 'RandomizedSearchCV', 'Ridge', 'RidgeCV', 'RobustScaler', 'SimpleImputer', 'SparkContext', 'StandardScaler', 'StratifiedKFold', 'TSNE', 'TfidfVectorizer', '_', '__', '___', '__builtin__', '__builtins__', '__cached__', '__doc__', '__loader__', '__name__', '__package__', '__path__', '__spec__', '_dh', '_i', '_i1', '_i2', '_i3', '_i4', '_ih', '_ii', '_iii', '_importable', '_imports', '_oh', 'a', 'active_imports', 'alt', 'b', 'bokeh', 'company_name', 'cross_val_score', 'cv2', 'dash', 'dd', 'dt', 'exit', 'fastai', 'fbprophet', 'gensim', 'get_ipython', 'get_user_symbols', 'glob', 'go', 'imutils', 'install_extensions', 'install_labextension', 'install_nbextension', 'keras', 'lazy_imports', 'lgb', 'load_workbook', 'metrics', 'mpl', 'nltk', 'np', 'open_workbook', 'os', 'pd', 'pickle', 'plt', 'px', 'py', 'pydot', 'pyforest', 'quit', 're', 'sg', 'skimage', 'sklearn', 'sm', 'sns', 'spacy', 'statistics', 'stats', 'svm', 'sys', 'textblob', 'tf', 'torch', 'tqdm', 'train_test_split', 'user_specific_imports', 'user_symbols', 'utils', 'wr', 'xgb']\n"
     ]
    }
   ],
   "source": [
    "# To find the global variables accessible in python\n",
    "print(dir())"
   ]
  },
  {
   "cell_type": "code",
   "execution_count": 7,
   "id": "5920814f",
   "metadata": {},
   "outputs": [
    {
     "name": "stdout",
     "output_type": "stream",
     "text": [
      "['__add__', '__class__', '__contains__', '__delattr__', '__dir__', '__doc__', '__eq__', '__format__', '__ge__', '__getattribute__', '__getitem__', '__getnewargs__', '__gt__', '__hash__', '__init__', '__init_subclass__', '__iter__', '__le__', '__len__', '__lt__', '__mod__', '__mul__', '__ne__', '__new__', '__reduce__', '__reduce_ex__', '__repr__', '__rmod__', '__rmul__', '__setattr__', '__sizeof__', '__str__', '__subclasshook__', 'capitalize', 'casefold', 'center', 'count', 'encode', 'endswith', 'expandtabs', 'find', 'format', 'format_map', 'index', 'isalnum', 'isalpha', 'isascii', 'isdecimal', 'isdigit', 'isidentifier', 'islower', 'isnumeric', 'isprintable', 'isspace', 'istitle', 'isupper', 'join', 'ljust', 'lower', 'lstrip', 'maketrans', 'partition', 'removeprefix', 'removesuffix', 'replace', 'rfind', 'rindex', 'rjust', 'rpartition', 'rsplit', 'rstrip', 'split', 'splitlines', 'startswith', 'strip', 'swapcase', 'title', 'translate', 'upper', 'zfill']\n"
     ]
    }
   ],
   "source": [
    "# To find the methods in string datatype\n",
    "print(dir(str))"
   ]
  },
  {
   "cell_type": "code",
   "execution_count": 8,
   "id": "471ab049",
   "metadata": {},
   "outputs": [
    {
     "name": "stdout",
     "output_type": "stream",
     "text": [
      "Analytics\n",
      "Sakha\n"
     ]
    }
   ],
   "source": [
    "# Escape character -> '\\n' -> new line\n",
    "\n",
    "# \\ character\n",
    "\n",
    "print('Analytics\\nSakha')"
   ]
  },
  {
   "cell_type": "code",
   "execution_count": 9,
   "id": "d5d16c0d",
   "metadata": {},
   "outputs": [
    {
     "ename": "SyntaxError",
     "evalue": "invalid syntax (Temp/ipykernel_1396/3226496992.py, line 1)",
     "output_type": "error",
     "traceback": [
      "\u001b[1;36m  File \u001b[1;32m\"C:\\Users\\dell\\AppData\\Local\\Temp/ipykernel_1396/3226496992.py\"\u001b[1;36m, line \u001b[1;32m1\u001b[0m\n\u001b[1;33m    print('I don't like the movies')\u001b[0m\n\u001b[1;37m                 ^\u001b[0m\n\u001b[1;31mSyntaxError\u001b[0m\u001b[1;31m:\u001b[0m invalid syntax\n"
     ]
    }
   ],
   "source": [
    "print('I don't like the movies')"
   ]
  },
  {
   "cell_type": "code",
   "execution_count": 11,
   "id": "5f5a40bf",
   "metadata": {},
   "outputs": [
    {
     "name": "stdout",
     "output_type": "stream",
     "text": [
      "I don't like the movies\n"
     ]
    }
   ],
   "source": [
    "print('I don\\'t like the movies')"
   ]
  },
  {
   "cell_type": "code",
   "execution_count": 12,
   "id": "404797f1",
   "metadata": {},
   "outputs": [
    {
     "name": "stdout",
     "output_type": "stream",
     "text": [
      "Analytics\bSakha\n"
     ]
    }
   ],
   "source": [
    "# \\b -> backspace\n",
    "print('Analytics\\bSakha')"
   ]
  },
  {
   "cell_type": "code",
   "execution_count": 13,
   "id": "8fe06c56",
   "metadata": {},
   "outputs": [
    {
     "name": "stdout",
     "output_type": "stream",
     "text": [
      "ab\bc\n"
     ]
    }
   ],
   "source": [
    "print('ab'+'\\b'+'c')"
   ]
  },
  {
   "cell_type": "code",
   "execution_count": 15,
   "id": "5701ee71",
   "metadata": {},
   "outputs": [
    {
     "name": "stdout",
     "output_type": "stream",
     "text": [
      "Analytics\r",
      "Sakha\n",
      "hello\r",
      "world\n"
     ]
    }
   ],
   "source": [
    "# \\r -> carriage return\n",
    "company_name = 'Analytics\\rSakha'\n",
    "print(company_name)\n",
    "a = 'hello\\rworld'\n",
    "print(a)"
   ]
  },
  {
   "cell_type": "code",
   "execution_count": 16,
   "id": "79b944e7",
   "metadata": {},
   "outputs": [
    {
     "name": "stdout",
     "output_type": "stream",
     "text": [
      "Analytics\tSakha\n",
      "Analytics                       Sakha\n"
     ]
    }
   ],
   "source": [
    "# \\t -> spaces\n",
    "print(\"Analytics\\tSakha\")\n",
    "print('Analytics                       Sakha')"
   ]
  },
  {
   "cell_type": "code",
   "execution_count": 18,
   "id": "b00514d9",
   "metadata": {},
   "outputs": [
    {
     "name": "stdout",
     "output_type": "stream",
     "text": [
      "Analytics\\tSakha\n",
      "Analytics\\tSakha\n"
     ]
    }
   ],
   "source": [
    "## \\\\t -> rawstring\n",
    "print('Analytics\\\\tSakha')\n",
    "print(r'Analytics\\tSakha')"
   ]
  },
  {
   "cell_type": "code",
   "execution_count": 22,
   "id": "87f7ff94",
   "metadata": {},
   "outputs": [
    {
     "name": "stdout",
     "output_type": "stream",
     "text": [
      "Analytics Sakha\n",
      "    Analytics Sakha    \n"
     ]
    }
   ],
   "source": [
    "# strip, rstrip, lstrip\n",
    "\n",
    "# strip -> removes the specified char from both the ends\n",
    "company_name = \"    Analytics Sakha    \"\n",
    "print(company_name.strip())\n",
    "print(company_name.strip('*'))"
   ]
  },
  {
   "cell_type": "code",
   "execution_count": 23,
   "id": "7e4951a2",
   "metadata": {},
   "outputs": [
    {
     "name": "stdout",
     "output_type": "stream",
     "text": [
      "****Analytics Sakha\n"
     ]
    }
   ],
   "source": [
    "# rstrip -> removes the specified char from the right side\n",
    "company_name = \"****Analytics Sakha****\"\n",
    "print(company_name.rstrip('*'))"
   ]
  },
  {
   "cell_type": "code",
   "execution_count": 24,
   "id": "2e8c19ec",
   "metadata": {},
   "outputs": [
    {
     "name": "stdout",
     "output_type": "stream",
     "text": [
      "Analytics Sakha****\n"
     ]
    }
   ],
   "source": [
    "# rstrip -> removes the specified char from the left side\n",
    "company_name = \"****Analytics Sakha****\"\n",
    "print(company_name.lstrip('*'))"
   ]
  },
  {
   "cell_type": "code",
   "execution_count": 27,
   "id": "3594cd68",
   "metadata": {},
   "outputs": [
    {
     "name": "stdout",
     "output_type": "stream",
     "text": [
      "enter your username    Nikhil\n",
      "enter the password    123\n",
      "Invalid credentials\n"
     ]
    }
   ],
   "source": [
    "user_name = input('enter your username')\n",
    "password = input('enter the password')\n",
    "\n",
    "if user_name.strip() == 'Nikhil' and password == '123':\n",
    "    print('Login successfuly')\n",
    "else:\n",
    "    print('Invalid credentials')"
   ]
  },
  {
   "cell_type": "code",
   "execution_count": null,
   "id": "d1952f70",
   "metadata": {},
   "outputs": [],
   "source": []
  },
  {
   "cell_type": "code",
   "execution_count": null,
   "id": "46461777",
   "metadata": {},
   "outputs": [],
   "source": []
  },
  {
   "cell_type": "code",
   "execution_count": null,
   "id": "ecc62748",
   "metadata": {},
   "outputs": [],
   "source": []
  },
  {
   "cell_type": "code",
   "execution_count": null,
   "id": "466f0425",
   "metadata": {},
   "outputs": [],
   "source": []
  },
  {
   "cell_type": "code",
   "execution_count": null,
   "id": "7adaf605",
   "metadata": {},
   "outputs": [],
   "source": []
  },
  {
   "cell_type": "code",
   "execution_count": null,
   "id": "a0ec1885",
   "metadata": {},
   "outputs": [],
   "source": []
  },
  {
   "cell_type": "code",
   "execution_count": null,
   "id": "4aa7dc98",
   "metadata": {},
   "outputs": [],
   "source": []
  }
 ],
 "metadata": {
  "kernelspec": {
   "display_name": "Python 3 (ipykernel)",
   "language": "python",
   "name": "python3"
  },
  "language_info": {
   "codemirror_mode": {
    "name": "ipython",
    "version": 3
   },
   "file_extension": ".py",
   "mimetype": "text/x-python",
   "name": "python",
   "nbconvert_exporter": "python",
   "pygments_lexer": "ipython3",
   "version": "3.9.7"
  }
 },
 "nbformat": 4,
 "nbformat_minor": 5
}
