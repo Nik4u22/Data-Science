{
 "cells": [
  {
   "cell_type": "markdown",
   "id": "47c2c32d",
   "metadata": {},
   "source": [
    "### Data Types in Python\n",
    "\n",
    "1. Fundamental data types - Basic data types\n",
    "-int\n",
    "-float\n",
    "-string\n",
    "-None\n",
    "-complex\n",
    "-bool\n",
    "\n",
    "2. Derived data types - It is derived from the fundamental data types\n",
    "-list\n",
    "-tuple\n",
    "-set\n",
    "-dict\n",
    "-range"
   ]
  },
  {
   "cell_type": "code",
   "execution_count": 2,
   "id": "f84fb90d",
   "metadata": {},
   "outputs": [
    {
     "name": "stdout",
     "output_type": "stream",
     "text": [
      "10\n",
      "<class 'int'>\n"
     ]
    }
   ],
   "source": [
    "# Integer data types -> any value which is a whole number\n",
    "\n",
    "a = 10\n",
    "print(a)\n",
    "print(type(a)) # type() helps us to know the datatype of the object"
   ]
  },
  {
   "cell_type": "code",
   "execution_count": 4,
   "id": "c5be0372",
   "metadata": {},
   "outputs": [
    {
     "name": "stdout",
     "output_type": "stream",
     "text": [
      "10.0\n",
      "<class 'float'>\n"
     ]
    }
   ],
   "source": [
    "# Float data type -> any value which is in decimal number\n",
    "\n",
    "a = 10.0\n",
    "print(a)\n",
    "print(type(a)) # type() helps us to know the datatype of the object"
   ]
  },
  {
   "cell_type": "code",
   "execution_count": 5,
   "id": "7ede7ed4",
   "metadata": {},
   "outputs": [
    {
     "name": "stdout",
     "output_type": "stream",
     "text": [
      "<class 'float'>\n"
     ]
    }
   ],
   "source": [
    "print(type(10.2))"
   ]
  },
  {
   "cell_type": "code",
   "execution_count": 7,
   "id": "8a66726a",
   "metadata": {},
   "outputs": [
    {
     "name": "stdout",
     "output_type": "stream",
     "text": [
      "Nikhil Jagnade\n",
      "<class 'str'>\n"
     ]
    }
   ],
   "source": [
    "# String data type -> any value which is written in '....', \"....\", \"\"\"....\"\"\"\n",
    "\n",
    "name = \"Nikhil Jagnade\"\n",
    "print(name)\n",
    "print(type(name))"
   ]
  },
  {
   "cell_type": "code",
   "execution_count": 9,
   "id": "ee8ebd6b",
   "metadata": {},
   "outputs": [
    {
     "name": "stdout",
     "output_type": "stream",
     "text": [
      "None\n",
      "<class 'NoneType'>\n"
     ]
    }
   ],
   "source": [
    "# None data type -> any value which is assign as None\n",
    "\n",
    "a = None\n",
    "print(a)\n",
    "print(type(a))"
   ]
  },
  {
   "cell_type": "code",
   "execution_count": 11,
   "id": "11ee84db",
   "metadata": {},
   "outputs": [
    {
     "name": "stdout",
     "output_type": "stream",
     "text": [
      "(3+4j)\n",
      "<class 'complex'>\n"
     ]
    }
   ],
   "source": [
    "# Complex data type -> any value which is written in the form of a+bj, where a -> real number & b -> Imaginary number\n",
    "\n",
    "print(3+4j)\n",
    "print(type(3+4j))"
   ]
  },
  {
   "cell_type": "code",
   "execution_count": 13,
   "id": "0dddb9b9",
   "metadata": {},
   "outputs": [
    {
     "name": "stdout",
     "output_type": "stream",
     "text": [
      "True\n",
      "<class 'bool'>\n"
     ]
    }
   ],
   "source": [
    "# Bool datatype -> any value which is True or False\n",
    "\n",
    "a = True\n",
    "print(a)\n",
    "print(type(a))"
   ]
  },
  {
   "cell_type": "code",
   "execution_count": 14,
   "id": "7e972fc0",
   "metadata": {},
   "outputs": [
    {
     "name": "stdout",
     "output_type": "stream",
     "text": [
      "Addition: 30\n"
     ]
    }
   ],
   "source": [
    "# Arithematic operations\n",
    "\n",
    "# Addition\n",
    "a = 10\n",
    "b = 20\n",
    "print(\"Addition:\",(a+b))\n"
   ]
  },
  {
   "cell_type": "code",
   "execution_count": 15,
   "id": "99e8b784",
   "metadata": {},
   "outputs": [
    {
     "name": "stdout",
     "output_type": "stream",
     "text": [
      "Substraction: -10\n"
     ]
    }
   ],
   "source": [
    "# Substraction\n",
    "a = 10\n",
    "b = 20\n",
    "print(\"Substraction:\",(a-b))\n"
   ]
  },
  {
   "cell_type": "code",
   "execution_count": 16,
   "id": "f670536d",
   "metadata": {},
   "outputs": [
    {
     "name": "stdout",
     "output_type": "stream",
     "text": [
      "Multiplication: 200\n"
     ]
    }
   ],
   "source": [
    "# Multiplication\n",
    "a = 10\n",
    "b = 20\n",
    "print(\"Multiplication:\",(a*b))\n"
   ]
  },
  {
   "cell_type": "code",
   "execution_count": 17,
   "id": "28598fa5",
   "metadata": {},
   "outputs": [
    {
     "name": "stdout",
     "output_type": "stream",
     "text": [
      "Division: 0.5\n"
     ]
    }
   ],
   "source": [
    "# Division\n",
    "a = 10\n",
    "b = 20\n",
    "print(\"Division:\",(a/b))\n"
   ]
  },
  {
   "cell_type": "code",
   "execution_count": null,
   "id": "2f9772eb",
   "metadata": {},
   "outputs": [],
   "source": []
  }
 ],
 "metadata": {
  "kernelspec": {
   "display_name": "Python 3 (ipykernel)",
   "language": "python",
   "name": "python3"
  },
  "language_info": {
   "codemirror_mode": {
    "name": "ipython",
    "version": 3
   },
   "file_extension": ".py",
   "mimetype": "text/x-python",
   "name": "python",
   "nbconvert_exporter": "python",
   "pygments_lexer": "ipython3",
   "version": "3.9.7"
  }
 },
 "nbformat": 4,
 "nbformat_minor": 5
}
