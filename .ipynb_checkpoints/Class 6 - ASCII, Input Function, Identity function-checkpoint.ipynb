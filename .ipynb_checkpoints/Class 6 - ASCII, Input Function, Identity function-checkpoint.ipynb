{
 "cells": [
  {
   "cell_type": "markdown",
   "id": "cb9c7a5e",
   "metadata": {},
   "source": [
    "### ASCII (American Standard Code for Information Interchange) -> It is a character encoding standard for electronic communication"
   ]
  },
  {
   "cell_type": "code",
   "execution_count": 3,
   "id": "7d8d7452",
   "metadata": {},
   "outputs": [
    {
     "data": {
      "text/plain": [
       "97"
      ]
     },
     "execution_count": 3,
     "metadata": {},
     "output_type": "execute_result"
    }
   ],
   "source": [
    "# ord() -> it converts char into ascii code\n",
    "ord('N')\n",
    "ord('a')"
   ]
  },
  {
   "cell_type": "code",
   "execution_count": 5,
   "id": "777fb837",
   "metadata": {},
   "outputs": [
    {
     "data": {
      "text/plain": [
       "'\\x16'"
      ]
     },
     "execution_count": 5,
     "metadata": {},
     "output_type": "execute_result"
    }
   ],
   "source": [
    "# chr() -> it convert ascii code into char\n",
    "chr(97)\n",
    "chr(22)"
   ]
  },
  {
   "cell_type": "markdown",
   "id": "cb969c3f",
   "metadata": {},
   "source": [
    "### Input Function -> You can take the input from the user"
   ]
  },
  {
   "cell_type": "code",
   "execution_count": 6,
   "id": "e8afcdbf",
   "metadata": {},
   "outputs": [
    {
     "name": "stdout",
     "output_type": "stream",
     "text": [
      "Enter the first number:44\n",
      "Enter the second number:45\n",
      "4445\n"
     ]
    }
   ],
   "source": [
    "a = input(\"Enter the first number:\")\n",
    "b = input(\"Enter the second number:\")\n",
    "print(a+b)"
   ]
  },
  {
   "cell_type": "code",
   "execution_count": 8,
   "id": "3301c6ce",
   "metadata": {},
   "outputs": [
    {
     "name": "stdout",
     "output_type": "stream",
     "text": [
      "Enter the first number:45\n",
      "Enter the second number:44\n",
      "89\n"
     ]
    }
   ],
   "source": [
    "a = input(\"Enter the first number:\")\n",
    "b = input(\"Enter the second number:\")\n",
    "print(int(a)+int(b))"
   ]
  },
  {
   "cell_type": "markdown",
   "id": "d34604de",
   "metadata": {},
   "source": [
    "### eval() -> automatic typecasting"
   ]
  },
  {
   "cell_type": "code",
   "execution_count": 16,
   "id": "70d926f4",
   "metadata": {},
   "outputs": [
    {
     "name": "stdout",
     "output_type": "stream",
     "text": [
      "Enter the first number:67\n",
      "Enter the second number:90\n",
      "157\n"
     ]
    }
   ],
   "source": [
    "a = eval(input(\"Enter the first number:\"))\n",
    "b = eval(input(\"Enter the second number:\"))\n",
    "print(a+b)"
   ]
  },
  {
   "cell_type": "code",
   "execution_count": null,
   "id": "496f0fc7",
   "metadata": {},
   "outputs": [],
   "source": []
  },
  {
   "cell_type": "markdown",
   "id": "775cc3c0",
   "metadata": {},
   "source": [
    "### TypesCasting -> Converting one dataype to another datatype of variable\n",
    "1. Int -> float\n",
    "2. float -> int\n",
    "3. string -> int etc"
   ]
  },
  {
   "cell_type": "code",
   "execution_count": 10,
   "id": "a49777e4",
   "metadata": {},
   "outputs": [
    {
     "name": "stdout",
     "output_type": "stream",
     "text": [
      "20\n",
      "<class 'int'>\n",
      "20.0\n",
      "<class 'float'>\n"
     ]
    }
   ],
   "source": [
    "# Int -> float\n",
    "a = 20\n",
    "print(a)\n",
    "print(type(a))\n",
    "print(float(a))\n",
    "print(type(float(a)))"
   ]
  },
  {
   "cell_type": "code",
   "execution_count": 11,
   "id": "70735789",
   "metadata": {},
   "outputs": [
    {
     "name": "stdout",
     "output_type": "stream",
     "text": [
      "20.22\n",
      "<class 'float'>\n",
      "20\n",
      "<class 'int'>\n"
     ]
    }
   ],
   "source": [
    "# float -> int\n",
    "a = 20.22\n",
    "print(a)\n",
    "print(type(a))\n",
    "print(int(a))\n",
    "print(type(int(a)))"
   ]
  },
  {
   "cell_type": "code",
   "execution_count": 13,
   "id": "9360acca",
   "metadata": {},
   "outputs": [
    {
     "name": "stdout",
     "output_type": "stream",
     "text": [
      "10\n",
      "<class 'str'>\n",
      "10\n",
      "<class 'int'>\n"
     ]
    }
   ],
   "source": [
    "# string -> int\n",
    "a = \"10\"\n",
    "print(a)\n",
    "print(type(a))\n",
    "print(int(a))\n",
    "print(type(int(a)))"
   ]
  },
  {
   "cell_type": "code",
   "execution_count": 14,
   "id": "3fad6b82",
   "metadata": {},
   "outputs": [
    {
     "name": "stdout",
     "output_type": "stream",
     "text": [
      "10.23\n",
      "<class 'str'>\n",
      "10.23\n",
      "<class 'float'>\n"
     ]
    }
   ],
   "source": [
    "# string -> float\n",
    "a = \"10.23\"\n",
    "print(a)\n",
    "print(type(a))\n",
    "print(float(a))\n",
    "print(type(float(a)))"
   ]
  },
  {
   "cell_type": "markdown",
   "id": "fed76539",
   "metadata": {},
   "source": [
    "### Id() -> use to show the identity value of the variable"
   ]
  },
  {
   "cell_type": "code",
   "execution_count": 18,
   "id": "a289d62d",
   "metadata": {},
   "outputs": [
    {
     "name": "stdout",
     "output_type": "stream",
     "text": [
      "1880512555920\n",
      "1880512555920\n"
     ]
    }
   ],
   "source": [
    "a = 20\n",
    "print(id(a))\n",
    "print(id(20))"
   ]
  },
  {
   "cell_type": "code",
   "execution_count": 21,
   "id": "a8870501",
   "metadata": {},
   "outputs": [
    {
     "name": "stdout",
     "output_type": "stream",
     "text": [
      "1880512555920\n",
      "1880512555920\n",
      "1880512555600\n",
      "1880512555920\n",
      "1880512555600\n"
     ]
    }
   ],
   "source": [
    "a = 20\n",
    "print(id(a))\n",
    "print(id(20))\n",
    "b = 10\n",
    "print(id(b))\n",
    "print(id(20))\n",
    "\n",
    "a = b\n",
    "print(id(a))\n"
   ]
  },
  {
   "cell_type": "code",
   "execution_count": null,
   "id": "dc05f422",
   "metadata": {},
   "outputs": [],
   "source": []
  },
  {
   "cell_type": "code",
   "execution_count": null,
   "id": "4d5236af",
   "metadata": {},
   "outputs": [],
   "source": []
  },
  {
   "cell_type": "code",
   "execution_count": null,
   "id": "e831ce38",
   "metadata": {},
   "outputs": [],
   "source": []
  },
  {
   "cell_type": "code",
   "execution_count": null,
   "id": "b4d905b5",
   "metadata": {},
   "outputs": [],
   "source": []
  },
  {
   "cell_type": "code",
   "execution_count": null,
   "id": "a1261837",
   "metadata": {},
   "outputs": [],
   "source": []
  },
  {
   "cell_type": "code",
   "execution_count": null,
   "id": "4fdcbe5b",
   "metadata": {},
   "outputs": [],
   "source": []
  }
 ],
 "metadata": {
  "kernelspec": {
   "display_name": "Python 3 (ipykernel)",
   "language": "python",
   "name": "python3"
  },
  "language_info": {
   "codemirror_mode": {
    "name": "ipython",
    "version": 3
   },
   "file_extension": ".py",
   "mimetype": "text/x-python",
   "name": "python",
   "nbconvert_exporter": "python",
   "pygments_lexer": "ipython3",
   "version": "3.9.7"
  }
 },
 "nbformat": 4,
 "nbformat_minor": 5
}
