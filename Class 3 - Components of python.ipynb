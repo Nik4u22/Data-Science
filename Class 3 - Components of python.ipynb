{
 "cells": [
  {
   "cell_type": "markdown",
   "id": "16322aec",
   "metadata": {},
   "source": [
    "python file -> .py\n",
    "anaconda navigator -> .ipynb (Interactive python notebook)\n",
    "\n",
    "videos -> .mp4,.flv ect\n",
    "Images -> .jpg, .jpeg etc"
   ]
  },
  {
   "cell_type": "markdown",
   "id": "8e891c9f",
   "metadata": {},
   "source": [
    "## Components of python\n",
    "\n",
    "1. Literals\n",
    "2. Constants\n",
    "3. variables\n",
    "4. Identifiers\n",
    "5. Reserved words\n",
    "6. Statements and expression\n",
    "7. block and intendation\n",
    "8. comments...."
   ]
  },
  {
   "cell_type": "markdown",
   "id": "d88fcdb8",
   "metadata": {},
   "source": [
    "## 1. Literals\n",
    "\n",
    "Literals is any value that we use in python\n",
    "\n",
    "1. int literal -> if any value is without a decimal point. eg->9,68,99999,1000000\n",
    "2. float literal -> if any value is with a decimal point. eg-> 10.98, 88.99, 9999999.0\n",
    "3. String literal -> anything that can be written inside a '....', \"...\", '''.....''', \"\"\"......\"\"\"\n",
    "4. bool literal -> True or False\n",
    "5. complex literal -> Any value that can be written in the form of x+yj, where x is real number and y is imaginary number\n",
    "6. None literal - None"
   ]
  },
  {
   "cell_type": "markdown",
   "id": "3d2d0ddb",
   "metadata": {},
   "source": [
    "## Constants and variables -> Identifiers\n",
    "\n",
    "Identifiers are the any value give to a avriable, constant, function or class\n",
    "\n",
    "### Identifier Rules\n",
    "1. You can only use a-z, A-Z, 0-9, _\n",
    "eg -> abc, _abc_, abc100\n",
    "\n",
    "2. you are not allowed to use any special character\n",
    "\n",
    "eg -> abc@abc, abc#, abc-\n",
    "\n",
    "3. You cannot start with the number\n",
    "\n",
    "eg -> 10abc\n",
    "\n",
    "4. It is case sensitive\n",
    "\n",
    "eg -> a = 10, A = 20\n",
    "10\n",
    "20\n",
    "\n",
    "5. It can be of any length\n",
    "\n",
    "eg -> mynameisnikhil\n",
    "\n",
    "6. Not allowed to use reserved keywords\n",
    "\n",
    "eg. -> "
   ]
  },
  {
   "cell_type": "code",
   "execution_count": 1,
   "id": "3aa23ef5",
   "metadata": {},
   "outputs": [
    {
     "name": "stdout",
     "output_type": "stream",
     "text": [
      "['False', 'None', 'True', '__peg_parser__', 'and', 'as', 'assert', 'async', 'await', 'break', 'class', 'continue', 'def', 'del', 'elif', 'else', 'except', 'finally', 'for', 'from', 'global', 'if', 'import', 'in', 'is', 'lambda', 'nonlocal', 'not', 'or', 'pass', 'raise', 'return', 'try', 'while', 'with', 'yield']\n"
     ]
    }
   ],
   "source": [
    "import keyword\n",
    "print(keyword.kwlist)"
   ]
  },
  {
   "cell_type": "code",
   "execution_count": null,
   "id": "9fdeb25d",
   "metadata": {},
   "outputs": [],
   "source": [
    "a = 10 # statement"
   ]
  },
  {
   "cell_type": "code",
   "execution_count": null,
   "id": "4ab4c420",
   "metadata": {},
   "outputs": [],
   "source": [
    "10+20 # Expression"
   ]
  },
  {
   "cell_type": "markdown",
   "id": "17ede810",
   "metadata": {},
   "source": [
    "## Block and indentation\n",
    "\n",
    "statement 1\n",
    "statement 2\n",
    "\n",
    "exec stpe - 1, 2,...n\n",
    "\n",
    "stat 1\n",
    "stat 2\n",
    "if cond:\n",
    "    stat 3\n",
    "    stat 4\n",
    "    \n",
    "stat 5\n",
    "stat 6\n",
    "\n",
    "exec steps - 1,2, cond=true, stat3, stat4, stat5 and stat6\n",
    "\n",
    "# Comments\n",
    "\n",
    "1. use to explain the code (read and execute)"
   ]
  },
  {
   "cell_type": "code",
   "execution_count": 2,
   "id": "6e49c37b",
   "metadata": {},
   "outputs": [
    {
     "name": "stdout",
     "output_type": "stream",
     "text": [
      "25\n"
     ]
    }
   ],
   "source": [
    "pi = 3.14\n",
    "r = 5\n",
    "a = r*r\n",
    "print(a)"
   ]
  },
  {
   "cell_type": "code",
   "execution_count": 4,
   "id": "04343e59",
   "metadata": {},
   "outputs": [
    {
     "name": "stdout",
     "output_type": "stream",
     "text": [
      "Radius:  5\n",
      "Area of circle:  25\n"
     ]
    }
   ],
   "source": [
    "pi = 3.14\n",
    "r = 5 # redius of circle\n",
    "a = r*r # area of circle\n",
    "print(\"Radius: \", r)\n",
    "print(\"Area of circle: \", a)"
   ]
  },
  {
   "cell_type": "code",
   "execution_count": null,
   "id": "02dbeaab",
   "metadata": {},
   "outputs": [],
   "source": []
  },
  {
   "cell_type": "code",
   "execution_count": null,
   "id": "b220aa44",
   "metadata": {},
   "outputs": [],
   "source": []
  }
 ],
 "metadata": {
  "kernelspec": {
   "display_name": "Python 3 (ipykernel)",
   "language": "python",
   "name": "python3"
  },
  "language_info": {
   "codemirror_mode": {
    "name": "ipython",
    "version": 3
   },
   "file_extension": ".py",
   "mimetype": "text/x-python",
   "name": "python",
   "nbconvert_exporter": "python",
   "pygments_lexer": "ipython3",
   "version": "3.9.7"
  }
 },
 "nbformat": 4,
 "nbformat_minor": 5
}
