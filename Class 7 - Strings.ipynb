{
 "cells": [
  {
   "cell_type": "markdown",
   "id": "8843f09b",
   "metadata": {},
   "source": [
    "## Strings in Python\n",
    "\n",
    "A string is a series of characters enclosed into quotes or double quotes"
   ]
  },
  {
   "cell_type": "code",
   "execution_count": 1,
   "id": "b39a8adc",
   "metadata": {},
   "outputs": [
    {
     "data": {
      "text/plain": [
       "'Analytics Sakha'"
      ]
     },
     "execution_count": 1,
     "metadata": {},
     "output_type": "execute_result"
    }
   ],
   "source": [
    "\"Analytics Sakha\""
   ]
  },
  {
   "cell_type": "code",
   "execution_count": 2,
   "id": "0355f622",
   "metadata": {},
   "outputs": [
    {
     "data": {
      "text/plain": [
       "'Analytics Sakha'"
      ]
     },
     "execution_count": 2,
     "metadata": {},
     "output_type": "execute_result"
    }
   ],
   "source": [
    "'Analytics Sakha'"
   ]
  },
  {
   "cell_type": "code",
   "execution_count": 8,
   "id": "d9daa078",
   "metadata": {},
   "outputs": [
    {
     "name": "stdout",
     "output_type": "stream",
     "text": [
      "Analytics Sakha\n"
     ]
    }
   ],
   "source": [
    "company_name = 'Analytics Sakha'\n",
    "print(company_name)"
   ]
  },
  {
   "cell_type": "code",
   "execution_count": 9,
   "id": "6b15df7b",
   "metadata": {},
   "outputs": [
    {
     "name": "stdout",
     "output_type": "stream",
     "text": [
      " Company Name is\n",
      " Analytics Sakha\n",
      "\n"
     ]
    }
   ],
   "source": [
    "print(\"\"\" Company Name is\n",
    " Analytics Sakha\n",
    "\"\"\")"
   ]
  },
  {
   "cell_type": "code",
   "execution_count": 11,
   "id": "ee50e8dc",
   "metadata": {},
   "outputs": [
    {
     "name": "stdout",
     "output_type": "stream",
     "text": [
      " Company name is\n",
      "Analytics Sakha\n",
      "\n"
     ]
    }
   ],
   "source": [
    "print(''' Company name is\n",
    "Analytics Sakha\n",
    "''')"
   ]
  },
  {
   "cell_type": "markdown",
   "id": "1a9e48c5",
   "metadata": {},
   "source": [
    "## String inbuilt python Functions\n",
    "\n",
    "1. isalpha() -> to check if a string contains only characters and is not empty.\n",
    "2. isalnum() -> to check if string contains only characters or digit and is not empty.\n",
    "3. isdecimal() -> to check if a string contains digits and is not empty.\n",
    "4. lower() -> to get a lowercase version of a string.\n",
    "5. islower() -> to check if string is lowercase.\n",
    "6. upper() -> to get a uppercase version of a string.\n",
    "7. is upper() -> to check if string is uppercase.\n",
    "8. title() -> to get a capitalized version of a string.\n",
    "9. startswith() -> to check if string starts with a specific substring.\n",
    "10. endswith() -> to check if the string ends with a specific substring.\n",
    "11. replace() -> to replace a part of a string.\n",
    "12. split() -> to split a string on a specific character separator.\n",
    "13. strip() -> to trim whitespaces from a string.\n",
    "14. join() -> to append new letters to a string.\n",
    "15. find() -> to find the position of a substring."
   ]
  },
  {
   "cell_type": "code",
   "execution_count": 12,
   "id": "fb541d2c",
   "metadata": {},
   "outputs": [
    {
     "name": "stdout",
     "output_type": "stream",
     "text": [
      "Enter your first name: Nikhil\n",
      "Enter your last name: Jagnade\n",
      "full name:  Nikhil Jagnade\n"
     ]
    }
   ],
   "source": [
    "first_name = input(\"Enter your first name: \")\n",
    "last_name = input(\"Enter your last name: \")\n",
    "print(\"full name: \",first_name, last_name)"
   ]
  },
  {
   "cell_type": "code",
   "execution_count": 13,
   "id": "49963c9d",
   "metadata": {},
   "outputs": [
    {
     "name": "stdout",
     "output_type": "stream",
     "text": [
      "Enter your first name: Nikhil\n",
      "Enter your last name: Jagnade\n",
      "My first name is  Nikhil My last name is  Jagnade\n"
     ]
    }
   ],
   "source": [
    "first_name = input(\"Enter your first name: \")\n",
    "last_name = input(\"Enter your last name: \")\n",
    "print(\"My first name is \",first_name, \" and My last name is \",last_name)"
   ]
  },
  {
   "cell_type": "code",
   "execution_count": 14,
   "id": "fcd0ec90",
   "metadata": {},
   "outputs": [
    {
     "name": "stdout",
     "output_type": "stream",
     "text": [
      "Enter your first name: Nikhil\n",
      "Enter your last name: Jagnade\n",
      "My first name is Nikhil and My last name is Jagnade\n"
     ]
    }
   ],
   "source": [
    "first_name = input(\"Enter your first name: \")\n",
    "last_name = input(\"Enter your last name: \")\n",
    "print(\"My first name is \"+first_name+ \" and My last name is \"+last_name)"
   ]
  },
  {
   "cell_type": "code",
   "execution_count": 16,
   "id": "93608fcf",
   "metadata": {},
   "outputs": [
    {
     "name": "stdout",
     "output_type": "stream",
     "text": [
      "Enter your first name: Nikhil\n",
      "Enter your last name: Jagnade\n",
      "My first name is Nikhil and My last name is Jagnade\n"
     ]
    }
   ],
   "source": [
    "first_name = input(\"Enter your first name: \")\n",
    "last_name = input(\"Enter your last name: \")\n",
    "print(f'My first name is {first_name} and My last name is {last_name}')"
   ]
  },
  {
   "cell_type": "code",
   "execution_count": 18,
   "id": "053976ac",
   "metadata": {},
   "outputs": [
    {
     "name": "stdout",
     "output_type": "stream",
     "text": [
      "Enter your first name: Nikhil\n",
      "Enter your last name: Jagnade\n",
      "My first name is Nikhil and My last name is Jagnade\n"
     ]
    }
   ],
   "source": [
    "first_name = input(\"Enter your first name: \")\n",
    "last_name = input(\"Enter your last name: \")\n",
    "print('My first name is {} and My last name is {}'.format(first_name, last_name))"
   ]
  },
  {
   "cell_type": "code",
   "execution_count": null,
   "id": "20902cd1",
   "metadata": {},
   "outputs": [],
   "source": []
  },
  {
   "cell_type": "code",
   "execution_count": null,
   "id": "ce3ae7f7",
   "metadata": {},
   "outputs": [],
   "source": []
  },
  {
   "cell_type": "code",
   "execution_count": null,
   "id": "0277df5b",
   "metadata": {},
   "outputs": [],
   "source": []
  },
  {
   "cell_type": "code",
   "execution_count": null,
   "id": "1bb403a3",
   "metadata": {},
   "outputs": [],
   "source": []
  },
  {
   "cell_type": "code",
   "execution_count": null,
   "id": "e176a1bb",
   "metadata": {},
   "outputs": [],
   "source": []
  },
  {
   "cell_type": "code",
   "execution_count": null,
   "id": "782f5a2d",
   "metadata": {},
   "outputs": [],
   "source": []
  },
  {
   "cell_type": "code",
   "execution_count": null,
   "id": "0c24cf58",
   "metadata": {},
   "outputs": [],
   "source": []
  },
  {
   "cell_type": "code",
   "execution_count": null,
   "id": "69c14c90",
   "metadata": {},
   "outputs": [],
   "source": []
  },
  {
   "cell_type": "code",
   "execution_count": null,
   "id": "f2e5d495",
   "metadata": {},
   "outputs": [],
   "source": []
  },
  {
   "cell_type": "code",
   "execution_count": null,
   "id": "f4ad6490",
   "metadata": {},
   "outputs": [],
   "source": []
  }
 ],
 "metadata": {
  "kernelspec": {
   "display_name": "Python 3 (ipykernel)",
   "language": "python",
   "name": "python3"
  },
  "language_info": {
   "codemirror_mode": {
    "name": "ipython",
    "version": 3
   },
   "file_extension": ".py",
   "mimetype": "text/x-python",
   "name": "python",
   "nbconvert_exporter": "python",
   "pygments_lexer": "ipython3",
   "version": "3.9.7"
  }
 },
 "nbformat": 4,
 "nbformat_minor": 5
}
