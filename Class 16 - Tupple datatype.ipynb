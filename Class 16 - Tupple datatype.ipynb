{
 "cells": [
  {
   "cell_type": "markdown",
   "id": "a22405a6",
   "metadata": {},
   "source": [
    "## Tuple Datatype\n",
    "\n",
    "- anaything that can be written inside a rond brackets()\n",
    "- elemnts separated by comma\n"
   ]
  },
  {
   "cell_type": "code",
   "execution_count": 1,
   "id": "ef8a5334",
   "metadata": {},
   "outputs": [
    {
     "name": "stdout",
     "output_type": "stream",
     "text": [
      "(1, 2, 3, 4)\n",
      "<class 'tuple'>\n"
     ]
    }
   ],
   "source": [
    "a = (1,2,3,4)\n",
    "print(a)\n",
    "print(type(a))"
   ]
  },
  {
   "cell_type": "code",
   "execution_count": 2,
   "id": "2931777a",
   "metadata": {},
   "outputs": [
    {
     "name": "stdout",
     "output_type": "stream",
     "text": [
      "('a', 'b', 'c')\n",
      "<class 'tuple'>\n"
     ]
    }
   ],
   "source": [
    "a = ('a', 'b', 'c')\n",
    "print(a)\n",
    "print(type(a))"
   ]
  },
  {
   "cell_type": "code",
   "execution_count": 3,
   "id": "3597d2d1",
   "metadata": {},
   "outputs": [
    {
     "name": "stdout",
     "output_type": "stream",
     "text": [
      "(1, 2, 3, 4, 'a', 'b', 'c')\n",
      "<class 'tuple'>\n"
     ]
    }
   ],
   "source": [
    "a =(1,2,3,4,'a','b','c')\n",
    "print(a)\n",
    "print(type(a))"
   ]
  },
  {
   "cell_type": "code",
   "execution_count": null,
   "id": "47734064",
   "metadata": {},
   "outputs": [],
   "source": [
    "# Create a tupple\n",
    "# 1. you already know the elemnts so deifne them\n",
    "sports = ('Cricket', 'Football', 'Hockey')"
   ]
  },
  {
   "cell_type": "code",
   "execution_count": 5,
   "id": "78cbf787",
   "metadata": {},
   "outputs": [
    {
     "name": "stdout",
     "output_type": "stream",
     "text": [
      "enter tuple values(1,2,3,4)\n",
      "(1, 2, 3, 4)\n",
      "<class 'tuple'>\n"
     ]
    }
   ],
   "source": [
    "# 2. Taking user input\n",
    "a = input(\"enter tuple values\")\n",
    "print(a)\n",
    "print(type(a))"
   ]
  },
  {
   "cell_type": "code",
   "execution_count": 6,
   "id": "e3835d45",
   "metadata": {},
   "outputs": [
    {
     "name": "stdout",
     "output_type": "stream",
     "text": [
      "enter tuple values(1,2,34)\n",
      "(1, 2, 34)\n",
      "<class 'tuple'>\n"
     ]
    }
   ],
   "source": [
    "a = eval(input(\"enter tuple values\"))\n",
    "print(a)\n",
    "print(type(a))"
   ]
  },
  {
   "cell_type": "code",
   "execution_count": 7,
   "id": "73e13be7",
   "metadata": {},
   "outputs": [
    {
     "ename": "TypeError",
     "evalue": "'int' object is not iterable",
     "output_type": "error",
     "traceback": [
      "\u001b[1;31m---------------------------------------------------------------------------\u001b[0m",
      "\u001b[1;31mTypeError\u001b[0m                                 Traceback (most recent call last)",
      "\u001b[1;32m~\\AppData\\Local\\Temp/ipykernel_7288/1751565295.py\u001b[0m in \u001b[0;36m<module>\u001b[1;34m\u001b[0m\n\u001b[0;32m      1\u001b[0m \u001b[1;31m# 3. By typecasting - Iterable datatype\u001b[0m\u001b[1;33m\u001b[0m\u001b[1;33m\u001b[0m\u001b[0m\n\u001b[0;32m      2\u001b[0m \u001b[0ma\u001b[0m \u001b[1;33m=\u001b[0m \u001b[1;36m10\u001b[0m\u001b[1;33m\u001b[0m\u001b[1;33m\u001b[0m\u001b[0m\n\u001b[1;32m----> 3\u001b[1;33m \u001b[0mtuple\u001b[0m\u001b[1;33m(\u001b[0m\u001b[0ma\u001b[0m\u001b[1;33m)\u001b[0m\u001b[1;33m\u001b[0m\u001b[1;33m\u001b[0m\u001b[0m\n\u001b[0m",
      "\u001b[1;31mTypeError\u001b[0m: 'int' object is not iterable"
     ]
    }
   ],
   "source": [
    "# 3. By typecasting - Iterable datatype\n",
    "a = 10\n",
    "tuple(a)"
   ]
  },
  {
   "cell_type": "code",
   "execution_count": 8,
   "id": "7e41c6b1",
   "metadata": {},
   "outputs": [
    {
     "data": {
      "text/plain": [
       "('H', 'e', 'l', 'l', 'o', ' ', 'W', 'o', 'l', 'r', 'd')"
      ]
     },
     "execution_count": 8,
     "metadata": {},
     "output_type": "execute_result"
    }
   ],
   "source": [
    "a = \"Hello Wolrd\"\n",
    "tuple(a)"
   ]
  },
  {
   "cell_type": "code",
   "execution_count": null,
   "id": "879a283e",
   "metadata": {},
   "outputs": [],
   "source": [
    "# properties of tuple\n",
    "1. Seuence datatype is required\n",
    "2. indexing and slicing on tupple elements\n",
    "3. We can store any datatype inside a tupple\n",
    "4. Duplication of elemnts is also allowed\n",
    "5. Operation - slicing, indexing, concatenation, repititiom, membership operator and identity\n",
    "6. it is immutabel"
   ]
  },
  {
   "cell_type": "code",
   "execution_count": 9,
   "id": "91e71fb1",
   "metadata": {},
   "outputs": [
    {
     "name": "stdout",
     "output_type": "stream",
     "text": [
      "(10, 20, 'Nikhil', True, False, (3+4j))\n",
      "<class 'tuple'>\n"
     ]
    }
   ],
   "source": [
    "# 3. We can store any datatype inside a tupple\n",
    "a = (10, 20, 'Nikhil', True, False, 3+4j)\n",
    "print(a)\n",
    "print(type(a))"
   ]
  },
  {
   "cell_type": "code",
   "execution_count": 10,
   "id": "c0a8d76f",
   "metadata": {},
   "outputs": [
    {
     "name": "stdout",
     "output_type": "stream",
     "text": [
      "(10, 10, 10, 10)\n",
      "<class 'tuple'>\n"
     ]
    }
   ],
   "source": [
    "# 4. Duplication of elemnts is also allowed\n",
    "a = (10, 10, 10 ,10)\n",
    "print(a)\n",
    "print(type(a))"
   ]
  },
  {
   "cell_type": "code",
   "execution_count": 13,
   "id": "33438fc0",
   "metadata": {},
   "outputs": [
    {
     "name": "stdout",
     "output_type": "stream",
     "text": [
      "(10, 20, 'Nikhil', True, False, (3+4j))\n",
      "<class 'tuple'>\n",
      "Nikhil\n",
      "False\n",
      "(10, 20)\n"
     ]
    }
   ],
   "source": [
    "# Slicing and indexing\n",
    "a = (10, 20, 'Nikhil', True, False, 3+4j)\n",
    "print(a)\n",
    "print(type(a))\n",
    "print(a[2])\n",
    "print(a[-2])\n",
    "print(a[0:2])"
   ]
  },
  {
   "cell_type": "code",
   "execution_count": 14,
   "id": "ba6df8f7",
   "metadata": {},
   "outputs": [
    {
     "name": "stdout",
     "output_type": "stream",
     "text": [
      "(10, 20, 'Nikhil', True, False, (3+4j))\n",
      "<class 'tuple'>\n",
      "(10, 20, 'Nikhil', True, False, (3+4j), 11, 22, 33)\n"
     ]
    }
   ],
   "source": [
    "# Concatenation of tuple (+ -> operator)\n",
    "a = (10, 20, 'Nikhil', True, False, 3+4j)\n",
    "print(a)\n",
    "print(type(a))\n",
    "b = (11,22,33)\n",
    "print(a+b)"
   ]
  },
  {
   "cell_type": "code",
   "execution_count": 15,
   "id": "8f290333",
   "metadata": {},
   "outputs": [
    {
     "name": "stdout",
     "output_type": "stream",
     "text": [
      "(10, 20, (3+4j))\n",
      "<class 'tuple'>\n",
      "(10, 20, (3+4j), 10, 20, (3+4j), 10, 20, (3+4j), 10, 20, (3+4j))\n"
     ]
    }
   ],
   "source": [
    "# repitition of tuple -> * -> operator\n",
    "\n",
    "a = (10, 20, 3+4j)\n",
    "print(a)\n",
    "print(type(a))\n",
    "print(a*4)\n"
   ]
  },
  {
   "cell_type": "code",
   "execution_count": 16,
   "id": "0b1bef99",
   "metadata": {},
   "outputs": [
    {
     "name": "stdout",
     "output_type": "stream",
     "text": [
      "(10, 20, 'Nikhil', True, False, (3+4j))\n",
      "<class 'tuple'>\n",
      "False\n"
     ]
    }
   ],
   "source": [
    "# Indentity -> is -> return bool value (True or False)\n",
    "a = (10, 20, 'Nikhil', True, False, 3+4j)\n",
    "print(a)\n",
    "print(type(a))\n",
    "b = (10,20)\n",
    "print(b is a)"
   ]
  },
  {
   "cell_type": "code",
   "execution_count": 19,
   "id": "91ab5694",
   "metadata": {},
   "outputs": [
    {
     "name": "stdout",
     "output_type": "stream",
     "text": [
      "(10, 20)\n",
      "<class 'tuple'>\n",
      "False\n"
     ]
    }
   ],
   "source": [
    "a = (10,20)\n",
    "print(a)\n",
    "print(type(a))\n",
    "b = (10,20)\n",
    "print(b is a)"
   ]
  },
  {
   "cell_type": "code",
   "execution_count": 22,
   "id": "58a0c140",
   "metadata": {},
   "outputs": [
    {
     "name": "stdout",
     "output_type": "stream",
     "text": [
      "((10, 20), 30, 40)\n",
      "<class 'tuple'>\n",
      "True\n"
     ]
    }
   ],
   "source": [
    "# Membership -> in -> return bool value (True or False)\n",
    "a = ((10,20),30,40)\n",
    "print(a)\n",
    "print(type(a))\n",
    "b = (10,20)\n",
    "print(b in a)"
   ]
  },
  {
   "cell_type": "code",
   "execution_count": 23,
   "id": "3ba3f007",
   "metadata": {},
   "outputs": [
    {
     "name": "stdout",
     "output_type": "stream",
     "text": [
      "(10, 20)\n",
      "<class 'tuple'>\n"
     ]
    },
    {
     "ename": "TypeError",
     "evalue": "'tuple' object does not support item assignment",
     "output_type": "error",
     "traceback": [
      "\u001b[1;31m---------------------------------------------------------------------------\u001b[0m",
      "\u001b[1;31mTypeError\u001b[0m                                 Traceback (most recent call last)",
      "\u001b[1;32m~\\AppData\\Local\\Temp/ipykernel_7288/2226352790.py\u001b[0m in \u001b[0;36m<module>\u001b[1;34m\u001b[0m\n\u001b[0;32m      3\u001b[0m \u001b[0mprint\u001b[0m\u001b[1;33m(\u001b[0m\u001b[0ma\u001b[0m\u001b[1;33m)\u001b[0m\u001b[1;33m\u001b[0m\u001b[1;33m\u001b[0m\u001b[0m\n\u001b[0;32m      4\u001b[0m \u001b[0mprint\u001b[0m\u001b[1;33m(\u001b[0m\u001b[0mtype\u001b[0m\u001b[1;33m(\u001b[0m\u001b[0ma\u001b[0m\u001b[1;33m)\u001b[0m\u001b[1;33m)\u001b[0m\u001b[1;33m\u001b[0m\u001b[1;33m\u001b[0m\u001b[0m\n\u001b[1;32m----> 5\u001b[1;33m \u001b[0ma\u001b[0m\u001b[1;33m[\u001b[0m\u001b[1;36m0\u001b[0m\u001b[1;33m]\u001b[0m \u001b[1;33m=\u001b[0m \u001b[1;36m999\u001b[0m\u001b[1;33m\u001b[0m\u001b[1;33m\u001b[0m\u001b[0m\n\u001b[0m",
      "\u001b[1;31mTypeError\u001b[0m: 'tuple' object does not support item assignment"
     ]
    }
   ],
   "source": [
    "# Tuple is immutable\n",
    "a = (10,20)\n",
    "print(a)\n",
    "print(type(a))\n",
    "a[0] = 999"
   ]
  },
  {
   "cell_type": "code",
   "execution_count": 25,
   "id": "828a31f6",
   "metadata": {},
   "outputs": [
    {
     "name": "stdout",
     "output_type": "stream",
     "text": [
      "2\n",
      "['__add__', '__class__', '__class_getitem__', '__contains__', '__delattr__', '__dir__', '__doc__', '__eq__', '__format__', '__ge__', '__getattribute__', '__getitem__', '__getnewargs__', '__gt__', '__hash__', '__init__', '__init_subclass__', '__iter__', '__le__', '__len__', '__lt__', '__mul__', '__ne__', '__new__', '__reduce__', '__reduce_ex__', '__repr__', '__rmul__', '__setattr__', '__sizeof__', '__str__', '__subclasshook__', 'count', 'index']\n"
     ]
    }
   ],
   "source": [
    "# Tuple is Iterable\n",
    "a = (10,20)\n",
    "print(len(a))\n",
    "print(dir(a))"
   ]
  },
  {
   "cell_type": "code",
   "execution_count": null,
   "id": "4b507761",
   "metadata": {},
   "outputs": [],
   "source": [
    "# Methods of tuple\n",
    "1. count()\n",
    "2. index()"
   ]
  },
  {
   "cell_type": "code",
   "execution_count": 26,
   "id": "8316e2f8",
   "metadata": {},
   "outputs": [
    {
     "name": "stdout",
     "output_type": "stream",
     "text": [
      "5\n"
     ]
    }
   ],
   "source": [
    "# count()\n",
    "a = (10,20, 20,20,10,10,10,10)\n",
    "print(a.count(10))\n"
   ]
  },
  {
   "cell_type": "code",
   "execution_count": 28,
   "id": "6487ec2e",
   "metadata": {},
   "outputs": [
    {
     "name": "stdout",
     "output_type": "stream",
     "text": [
      "3\n"
     ]
    }
   ],
   "source": [
    "# index()\n",
    "a = (10,20, 20,50,10,10,10,10)\n",
    "print(a.index(50))\n"
   ]
  },
  {
   "cell_type": "code",
   "execution_count": 29,
   "id": "be69544d",
   "metadata": {},
   "outputs": [
    {
     "name": "stdout",
     "output_type": "stream",
     "text": [
      "(10, 20, 20, 20, 10, 10, 10, 10)\n"
     ]
    }
   ],
   "source": [
    "# tuple packing -> packing or assigning multiple values to a single variable\n",
    "a = (10,20, 20,20,10,10,10,10)\n",
    "print(a)\n"
   ]
  },
  {
   "cell_type": "code",
   "execution_count": 30,
   "id": "da282d02",
   "metadata": {},
   "outputs": [
    {
     "name": "stdout",
     "output_type": "stream",
     "text": [
      "10\n"
     ]
    }
   ],
   "source": [
    "# tuple unpacking -> Fetch the individual element from the tupple\n",
    "a = (10,20, 20,20,10,10,10,10)\n",
    "print(a[0])\n"
   ]
  },
  {
   "cell_type": "code",
   "execution_count": null,
   "id": "13706669",
   "metadata": {},
   "outputs": [],
   "source": []
  },
  {
   "cell_type": "code",
   "execution_count": null,
   "id": "12b84362",
   "metadata": {},
   "outputs": [],
   "source": []
  },
  {
   "cell_type": "code",
   "execution_count": null,
   "id": "72322c0c",
   "metadata": {},
   "outputs": [],
   "source": []
  },
  {
   "cell_type": "code",
   "execution_count": null,
   "id": "eb7063e8",
   "metadata": {},
   "outputs": [],
   "source": []
  },
  {
   "cell_type": "code",
   "execution_count": null,
   "id": "cbbabcdd",
   "metadata": {},
   "outputs": [],
   "source": []
  },
  {
   "cell_type": "code",
   "execution_count": null,
   "id": "afa952f1",
   "metadata": {},
   "outputs": [],
   "source": []
  },
  {
   "cell_type": "code",
   "execution_count": null,
   "id": "12ee1bb6",
   "metadata": {},
   "outputs": [],
   "source": []
  },
  {
   "cell_type": "code",
   "execution_count": null,
   "id": "a1ed7813",
   "metadata": {},
   "outputs": [],
   "source": []
  },
  {
   "cell_type": "code",
   "execution_count": null,
   "id": "0612749b",
   "metadata": {},
   "outputs": [],
   "source": []
  }
 ],
 "metadata": {
  "kernelspec": {
   "display_name": "Python 3 (ipykernel)",
   "language": "python",
   "name": "python3"
  },
  "language_info": {
   "codemirror_mode": {
    "name": "ipython",
    "version": 3
   },
   "file_extension": ".py",
   "mimetype": "text/x-python",
   "name": "python",
   "nbconvert_exporter": "python",
   "pygments_lexer": "ipython3",
   "version": "3.9.7"
  }
 },
 "nbformat": 4,
 "nbformat_minor": 5
}
