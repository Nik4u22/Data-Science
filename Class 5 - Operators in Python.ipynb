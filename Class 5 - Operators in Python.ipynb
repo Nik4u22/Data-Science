{
 "cells": [
  {
   "cell_type": "markdown",
   "id": "95bec215",
   "metadata": {},
   "source": [
    "## Operators in Python\n",
    "\n",
    "Operators -> Python operators are symbols that we use to run operations upon values and variables.\n",
    "\n",
    "Types of Operators are as follows\n",
    "1. Assignment operators\n",
    "2. Arithematic operators\n",
    "3. Comparison operators\n",
    "4. Boolean operators\n",
    "5. Bitwise operators\n",
    "6. is and in operator"
   ]
  },
  {
   "cell_type": "code",
   "execution_count": 1,
   "id": "4f594ee9",
   "metadata": {},
   "outputs": [
    {
     "name": "stdout",
     "output_type": "stream",
     "text": [
      "25\n"
     ]
    }
   ],
   "source": [
    "# Assignment Operator -> use to assign value to a variable\n",
    "\n",
    "age = 25\n",
    "print(age)"
   ]
  },
  {
   "cell_type": "code",
   "execution_count": 2,
   "id": "b3301aa9",
   "metadata": {},
   "outputs": [
    {
     "name": "stdout",
     "output_type": "stream",
     "text": [
      "35\n"
     ]
    }
   ],
   "source": [
    "age = 35\n",
    "nextage = age\n",
    "print(nextage)"
   ]
  },
  {
   "cell_type": "code",
   "execution_count": 8,
   "id": "43546e94",
   "metadata": {},
   "outputs": [
    {
     "data": {
      "text/plain": [
       "0"
      ]
     },
     "execution_count": 8,
     "metadata": {},
     "output_type": "execute_result"
    }
   ],
   "source": [
    "# Arithematic Operator -> +, -, *, /, % are the arithematic operators\n",
    "\n",
    "10+20\n",
    "3-1\n",
    "2*2\n",
    "4/2\n",
    "4%2"
   ]
  },
  {
   "cell_type": "code",
   "execution_count": 9,
   "id": "91b9ac55",
   "metadata": {},
   "outputs": [
    {
     "data": {
      "text/plain": [
       "256"
      ]
     },
     "execution_count": 9,
     "metadata": {},
     "output_type": "execute_result"
    }
   ],
   "source": [
    "4**4"
   ]
  },
  {
   "cell_type": "code",
   "execution_count": 10,
   "id": "05d7af92",
   "metadata": {},
   "outputs": [
    {
     "data": {
      "text/plain": [
       "1"
      ]
     },
     "execution_count": 10,
     "metadata": {},
     "output_type": "execute_result"
    }
   ],
   "source": [
    "25%2"
   ]
  },
  {
   "cell_type": "code",
   "execution_count": 16,
   "id": "461ffcb4",
   "metadata": {},
   "outputs": [
    {
     "data": {
      "text/plain": [
       "True"
      ]
     },
     "execution_count": 16,
     "metadata": {},
     "output_type": "execute_result"
    }
   ],
   "source": [
    "# Comparision operators -> ==, !=, >, <, >=, <=\n",
    "\n",
    "10==20\n",
    "10!=20\n",
    "10>20\n",
    "10<20\n",
    "10>=20\n",
    "10<=20"
   ]
  },
  {
   "cell_type": "code",
   "execution_count": 20,
   "id": "6b72dde9",
   "metadata": {},
   "outputs": [
    {
     "ename": "SyntaxError",
     "evalue": "invalid syntax (Temp/ipykernel_6968/514777018.py, line 5)",
     "output_type": "error",
     "traceback": [
      "\u001b[1;36m  File \u001b[1;32m\"C:\\Users\\dell\\AppData\\Local\\Temp/ipykernel_6968/514777018.py\"\u001b[1;36m, line \u001b[1;32m5\u001b[0m\n\u001b[1;33m    print(!1)\u001b[0m\n\u001b[1;37m          ^\u001b[0m\n\u001b[1;31mSyntaxError\u001b[0m\u001b[1;31m:\u001b[0m invalid syntax\n"
     ]
    }
   ],
   "source": [
    "# Boolean Operators -> not, and, or (True or False)\n",
    "\n",
    "print(0 or 1)\n",
    "print(0 and 1)\n",
    "print(!1)"
   ]
  },
  {
   "cell_type": "code",
   "execution_count": 27,
   "id": "dc200605",
   "metadata": {},
   "outputs": [
    {
     "name": "stdout",
     "output_type": "stream",
     "text": [
      "0\n",
      "30\n",
      "30\n",
      "10485760\n",
      "0\n"
     ]
    }
   ],
   "source": [
    "# Bitwise Operator -> AND(&), OR(I), XOR(^), NOT(~), Left Shift(<<), Right Shift(>>)\n",
    "\n",
    "print(10 & 20)\n",
    "print(10 | 20)\n",
    "print(10 ^ 20)\n",
    "#print(10 ~ 20)\n",
    "print(10 << 20)\n",
    "print(10 >> 20)"
   ]
  },
  {
   "cell_type": "code",
   "execution_count": null,
   "id": "6e1cec0b",
   "metadata": {},
   "outputs": [],
   "source": [
    "# is and in operator \n",
    "# is operator -> identity operator(use to compare the two objects and return true if both are the same objects)\n",
    "# in operator -> membership operator(use to tell if the value is contained in a list or any other sequence )"
   ]
  }
 ],
 "metadata": {
  "kernelspec": {
   "display_name": "Python 3 (ipykernel)",
   "language": "python",
   "name": "python3"
  },
  "language_info": {
   "codemirror_mode": {
    "name": "ipython",
    "version": 3
   },
   "file_extension": ".py",
   "mimetype": "text/x-python",
   "name": "python",
   "nbconvert_exporter": "python",
   "pygments_lexer": "ipython3",
   "version": "3.9.7"
  }
 },
 "nbformat": 4,
 "nbformat_minor": 5
}
